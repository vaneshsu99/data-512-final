{
 "cells": [
  {
   "cell_type": "markdown",
   "metadata": {},
   "source": [
    "# Billboard Top 100 Analysis"
   ]
  },
  {
   "cell_type": "markdown",
   "metadata": {},
   "source": [
    "## Motivation and problem statement\n"
   ]
  },
  {
   "cell_type": "markdown",
   "metadata": {},
   "source": [
    "The lack of diversity in the entertainment industry has been a growing topic of discussion in recent years. Whether it be lack of racial, gender, or ability diversity, many have been pushing for change in the industry. This project looks to explore potential imbalances and changes within popular music.\n",
    "\n",
    "In the Netflix Taylor Swift documentary *Miss Americana*, she mentions how female artists have to constantly reinvent themselves to stay relevant in their fields. Upon further reflection, I realized how my favorite female artists on the radio have changed their sounds from album to album. While some of this \"reinvention\" lies in their clothing and public personas, I wondered if this change truly existed in their music and lyrics. I want to look into the most \"popular\" songs and artists in the past few decades and see whether or not this inequality exists; if female artists who have stuck around evolved from album to album, if male artists experience the same type of evolution, and if there is any correlation with the music made by artists who faded out of the top 100.\n",
    "\n",
    "Overall, I'm interested in investigating any gender imbalances in the Billboard Top 100. I want to know if there have been consistently more male artists at the top of the charts. I also want to look into the female artists who have managed to make it into the Top 100, and the positions they have been able to claim. Finally, I'm curious as to how lyrics and audio features have changed over time."
   ]
  },
  {
   "cell_type": "markdown",
   "metadata": {},
   "source": [
    "## Data selected for analysis"
   ]
  },
  {
   "cell_type": "markdown",
   "metadata": {},
   "source": [
    "### Billboard Top 100 from 1950-2015\n",
    "\n",
    "A dataset containing Billboard Top 100 songs from 1950-2015 can be found [here](https://github.com/kevinschaich/billboard). The data is in JSON format, and a description of the fields in the data can be found in the repository it came from, although I've copied it down below as well. The data appears to be part of an open source project and has an MIT license. This dataset contains the artists and lyrics for all the songs in the Billboard top 100 over several years so it would allow me to analyze the content of the lyrics and the artists associated with those songs."
   ]
  },
  {
   "cell_type": "markdown",
   "metadata": {},
   "source": [
    "```\n",
    "{\n",
    "    \"title\": [string],              # Title of the song.       \n",
    "    \"artist\": [string],             # Artist of the song.\n",
    "    \"year\": [int],                  # Release year of the song.\n",
    "    \"pos\": [int],                   # Position of Billboard's Top 100 for year [year].\n",
    "    \"lyrics\": [string],             # Lyrics of the song.\n",
    "    \"tags\": [string array],         # Genre tags associated with artist of the song.\n",
    "    \"sentiment\": {\n",
    "        \"neg\": [float],             # Negativity assoc. w/ lyrics. (between 0-1 inclusive, 1 being 100% negative).\n",
    "        \"neu\": [float],             # Neutrality assoc. w/ lyrics. (between 0-1 inclusive, 1 being 100% neutral).\n",
    "        \"pos\": [float],             # Positivity assoc. w/ lyrics. (between 0-1 inclusive, 1 being 100% positive).\n",
    "        \"compound\": [float]\n",
    "    },\n",
    "    \"f_k_grade\": [float],           # Flesch–Kincaid grade level of lyrics.\n",
    "    \"flesch_index\": [float],        # Flesch reading ease score.\n",
    "    \"fog_index\": [float],           # Gunning-Fog readability index.\n",
    "    \"difficult_words\": [int],       # Number of words not on the Dale–Chall \"easy\" word list.\n",
    "    \"num_syllables\": [int],         # Number of syllables in lyrics.\n",
    "    \"num_words\": [int],             # Number of words in lyrics.\n",
    "    \"num_lines\": [int],             # Number of lines in lyrics.\n",
    "    \"num_dupes\": [int]              # Number of duplicate (repetitive) lines in lyrics.\n",
    "}\n",
    "```"
   ]
  },
  {
   "cell_type": "markdown",
   "metadata": {},
   "source": [
    "### Billboard Hot 100 Spotify Audio Features\n",
    "\n",
    "Another dataset that contains Billboard Hot 100 song features from 8/2/1958-12/28/2019 can be found [here](https://data.world/kcmillersean/billboard-hot-100-1958-2017). The Spotify audio features of the songs will allow me to analyze how the underlying music has changed. This dataset is available for public use. More information about Spotify audio features can be found [here](https://developer.spotify.com/documentation/web-api/reference/tracks/get-audio-features/), but I've included a description of the data below."
   ]
  },
  {
   "cell_type": "markdown",
   "metadata": {},
   "source": [
    "| field                     | type    | description                                                                                                                                                                                                                                                                                                                                                                                                                                                                                            |\n",
    "|---------------------------|---------|--------------------------------------------------------------------------------------------------------------------------------------------------------------------------------------------------------------------------------------------------------------------------------------------------------------------------------------------------------------------------------------------------------------------------------------------------------------------------------------------------------|\n",
    "| songid                    | string  | ID value for song                                                                                                                                                                                                                                                                                                                                                                                                                                                                                      |\n",
    "| performer                 | string  | artist                                                                                                                                                                                                                                                                                                                                                                                                                                                                                                 |\n",
    "| song                      | string  | song title                                                                                                                                                                                                                                                                                                                                                                                                                                                                                             |\n",
    "| spotify_genre             | string  | genre categorized by Spotify                                                                                                                                                                                                                                                                                                                                                                                                                                                                           |\n",
    "| spotify_track_id          | string  | Spotify ID value for song                                                                                                                                                                                                                                                                                                                                                                                                                                                                              |\n",
    "| spotify_track_preview_url | string  | Spotify URL for song                                                                                                                                                                                                                                                                                                                                                                                                                                                                                   |\n",
    "| spotify_track_album       | string  | album the song came from                                                                                                                                                                                                                                                                                                                                                                                                                                                                               |\n",
    "| spotify_track_explicit    | boolean | explicit lyrics (true/false)                                                                                                                                                                                                                                                                                                                                                                                                                                                                           |\n",
    "| spotify_track_duration_ms | integer | song duration in ms                                                                                                                                                                                                                                                                                                                                                                                                                                                                                    |\n",
    "| spotify_track_popularity  | float   | spotify popularity value (0-100 with 100 being most popular) based mostly on number of plays and how recent the plays are                                                                                                                                                                                                                                                                                                                                                                              |\n",
    "| danceability              | float   | describes how suitable a track is for dancing based on a combination of musical elements including tempo, rhythm stability, beat strength, and overall regularity. A value of 0.0 is least danceable and 1.0 is most danceable                                                                                                                                                                                                                                                                         |\n",
    "| energy                    | float   | a measure from 0.0 to 1.0 and represents a perceptual measure of intensity and activity. Typically, energetic tracks feel fast, loud, and noisy. For example, death metal has high energy, while a Bach prelude scores low on the scale. Perceptual features contributing to this attribute include dynamic range, perceived loudness, timbre, onset rate, and general entropy.                                                                                                                        |\n",
    "| key                       | integer | estimated overall key of the track. Integers map to pitches using standard   Pitch Class notation  . E.g. 0 = C, 1 = C♯/D♭, 2 = D, and so on. If no key was detected, the value is -1                                                                                                                                                                                                                                                                                                                  |\n",
    "| loudness                  | float   | overall loudness of a track in decibels (dB). Loudness values are averaged across the entire track and are useful for comparing relative loudness of tracks. Loudness is the quality of a sound that is the primary psychological correlate of physical strength (amplitude). Values typical range between -60 and 0 db                                                                                                                                                                                |\n",
    "| mode                      | boolean | indicates the modality (major or minor) of a track, the type of scale from which its melodic content is derived. Major is represented by true and minor is false.                                                                                                                                                                                                                                                                                                                                      |\n",
    "| speechiness               | float   | detects the presence of spoken words in a track. The more exclusively speech-like the recording (e.g. talk show, audio book, poetry), the closer to 1.0 the attribute value. Values above 0.66 describe tracks that are probably made entirely of spoken words. Values between 0.33 and 0.66 describe tracks that may contain both music and speech, either in sections or layered, including such cases as rap music. Values below 0.33 most likely represent music and other non-speech-like tracks. |\n",
    "| acousticness              | float   | confidence measure from 0.0 to 1.0 of whether the track is acoustic. 1.0 represents high confidence the track is acoustic                                                                                                                                                                                                                                                                                                                                                                              |\n",
    "| instrumentalness          | float   | predicts whether a track contains no vocals. “Ooh” and “aah” sounds are treated as instrumental in this context. Rap or spoken word tracks are clearly “vocal”. The closer the instrumentalness value is to 1.0, the greater likelihood the track contains no vocal content. Values above 0.5 are intended to represent instrumental tracks, but confidence is higher as the value approaches 1.0                                                                                                      |\n",
    "| liveness                  | float   | Detects the presence of an audience in the recording. Higher liveness values represent an increased probability that the track was performed live. A value above 0.8 provides strong likelihood that the track is live.                                                                                                                                                                                                                                                                                |\n",
    "| valence                   | float   | measure from 0.0 to 1.0 describing the musical positiveness conveyed by a track. Tracks with high valence sound more positive (e.g. happy, cheerful, euphoric), while tracks with low valence sound more negative (e.g. sad, depressed, angry)                                                                                                                                                                                                                                                         |\n",
    "| tempo                     | float   | overall estimated tempo of a track in beats per minute (BPM)                                                                                                                                                                                                                                                                                                                                                                                                                                           |\n",
    "| time_signature            | integer | estimated overall time signature of a track                                                                                                                                                                                                                                                                                                                                                                                                                                                            |"
   ]
  },
  {
   "cell_type": "markdown",
   "metadata": {},
   "source": [
    "### Billboard Top 100 Artists' Genders\n",
    "\n",
    "My final dataset is one containing artists' genders. This dataset can be found [here](https://www.kaggle.com/rkibria/singersgender). This dataset is from Kaggle and is available for public use. The fields for this dataset are described below. One thing to note is that this dataset only labels artists as \"male\" or \"female\". There are no labels for groups, and there are no labels for people who identify as nonbinary. "
   ]
  },
  {
   "cell_type": "markdown",
   "metadata": {},
   "source": [
    "| Field    | Type   | Description                             |\n",
    "|----------|--------|-----------------------------------------|\n",
    "| artist   | string | name of musical artist                  | \n",
    "| gender   | string | gender (male/female)                    | \n",
    "| category | string | category based on their Wikipedia pages |"
   ]
  },
  {
   "cell_type": "markdown",
   "metadata": {},
   "source": [
    "## Unknowns and dependencies"
   ]
  },
  {
   "cell_type": "markdown",
   "metadata": {},
   "source": [
    "* As I perform my EDA, there may be issues with the data. The gender data does not contain values for bands or for nonbinary artists. This may require some additional manual work if I want to enrich the dataset.\n",
    "* Figuring out how to analyze all of my variables in combinations and ways that make sense might be difficult.\n",
    "* Work and other classes may constrain the amount of time I would like to put into this project."
   ]
  },
  {
   "cell_type": "markdown",
   "metadata": {},
   "source": [
    "## Research questions and/or hypotheses"
   ]
  },
  {
   "cell_type": "markdown",
   "metadata": {},
   "source": [
    "__Q1__: Are there consistently more male artists in the Billboard Top 100?\n",
    "\n",
    "I want to know if there have consistently been more male artists in the Billboard Top 100 over the years. This [article](https://www.billboard.com/articles/news/8096196/new-report-shows-major-lack-representation-women-music-industry) mentions a gender imbalance in the pop charts, and I want to expand upon this and explore gender distribution across more years."
   ]
  },
  {
   "cell_type": "markdown",
   "metadata": {},
   "source": [
    "__Q2__: How have lyrics and audio features changed over time, and are there significant differences in the lyrics sung by female artists vs. male artists?\n",
    "\n",
    "I'm curious as to how audio features and lyrics have changed over time. I believe that with the rise of hip hop and electronic music, the audio features we are seeing in the Billboard Top 100 today differ quite a bit from the audio features in the 1950s. I also want to look into how lyrics have changed over time. I think it's likely that they've gotten more explicit or tackled darker subjects. Finally, I want to compare the lyrics sung by female artists vs. male artists to see if there are any significant differences."
   ]
  },
  {
   "cell_type": "markdown",
   "metadata": {},
   "source": [
    "__Q3__: Do female artists who stay in the Billboard Top 100 change their music/lyrics between albums more than male artists?\n",
    "\n",
    "There have been claims made by female artists saying that they have to reinvent themselves between albums in order to stay relevant. I want to look into whether their audio features and lyrics noticeably change between albums and compare this to male artists."
   ]
  },
  {
   "cell_type": "markdown",
   "metadata": {},
   "source": [
    "__Q4__: When female artists make it into the Top 100, are they more likely to claim higher positions on the chart?\n",
    "\n",
    "We often see artists like Rihanna and Beyonce claim the top of the charts, so I want to investigate whether or not females are more likely to claim higher positions on the charts once they make it into the Top 100. I'm also curious to see if the same few female artists are the ones making it to the top."
   ]
  },
  {
   "cell_type": "markdown",
   "metadata": {},
   "source": [
    "## Background/Related Work"
   ]
  },
  {
   "cell_type": "markdown",
   "metadata": {},
   "source": [
    "[Research](https://www.billboard.com/articles/news/8096196/new-report-shows-major-lack-representation-women-music-industry) done by the [Annenberg Inclusion Initiative](https://annenberg.usc.edu/research/aii) found that in 2017, 83.2% of artists were men and only 16.8% were women. 2017 was a six year low, but across those six years in the pop charts, females only accounted for 22% of all artists. They argue that similar to the movie industry, there may be a bias for male artists, producers, and songwriters.\n",
    "\n",
    "A study titled [Cultural evolution of emotional expression in 50 years of\n",
    "song lyrics](https://www-cambridge-org.offcampus.lib.washington.edu/core/services/aop-cambridge-core/content/view/E6E64C02BDB0480DB13B8B6BB7DFF598/S2513843X19000112a.pdf/cultural_evolution_of_emotional_expression_in_50_years_of_song_lyrics.pdf) looked into how lyrics have changed over the years and whether or not content bias might have contributed to it. Through their preliminary analysis they found that negative lyrics have increased over the years while positive lyrics have decreased. They suggest that negative songs might perform better and that there might be some random copying between artists.\n",
    "\n",
    "Another study titled [Popular music lyrics and musicians’ gender over time: A computational approach](https://journals-sagepub-com.offcampus.lib.washington.edu/doi/full/10.1177/0305735619871602) looked into popular music in the U.K. They found that all male bands and male singers decreased over time, but there was still a significant gender gap. They also found that associations between artists' genders and their lyrical content existed, but were small.\n",
    "\n",
    "Finally, in a study title [Race, gender, and the Billboard Top 40 charts between 1997\n",
    "and 2007](https://web-b-ebscohost-com.offcampus.lib.washington.edu/ehost/pdfviewer/pdfviewer?vid=1&sid=17cae83a-6f74-4c7e-a0f5-44036c8c3fbd%40pdc-v-sessmgr05), found once again that male artists claimed more spots on the charts compared to female artists. They also found that during the period of time they studied, black artists actually performed better on the charts compared to artists of other races. I won't be looking into racial data for my analysis, but it's certainly another interesting angle on inequality within the music industry.\n",
    "\n",
    "There have been several other studies conducted on gender disparities and inequalities in the music industry. They have spanned different years, used different datasets, and taken different angles on the topic, but these are just a few that I've chosen to include here."
   ]
  },
  {
   "cell_type": "markdown",
   "metadata": {},
   "source": [
    "## Methodology"
   ]
  },
  {
   "cell_type": "markdown",
   "metadata": {},
   "source": [
    "I plan on doing some exploring of the data to find interesting trends or correlations. I will be creating visualizations shoing the gender distribution of artists on the charts over the years. In order to deal with bands, I will be placing them in their own separate category, and if time allows, I hope to incoporate and explore the gender distribution of the bands. In order to find relationships between gender and positions on the charts I will be performing some regressions on the data. I will be doing a similar analysis with audio features across different years and genders to see if there are significant changes in female artists' music vs. male artists' music. I will also be doing some analysis and visualizations on the top words present in the lyrics, and potentially some topic modeling to see what themes appear in the lyrics over time."
   ]
  }
 ],
 "metadata": {
  "kernelspec": {
   "display_name": "Python 3",
   "language": "python",
   "name": "python3"
  },
  "language_info": {
   "codemirror_mode": {
    "name": "ipython",
    "version": 3
   },
   "file_extension": ".py",
   "mimetype": "text/x-python",
   "name": "python",
   "nbconvert_exporter": "python",
   "pygments_lexer": "ipython3",
   "version": "3.7.4"
  }
 },
 "nbformat": 4,
 "nbformat_minor": 4
}
