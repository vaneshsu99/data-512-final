{
 "cells": [
  {
   "cell_type": "markdown",
   "metadata": {},
   "source": [
    "# __Data 512__: Final Project Preliminary Proposal"
   ]
  },
  {
   "cell_type": "markdown",
   "metadata": {},
   "source": [
    "## Motivation and problem statement\n"
   ]
  },
  {
   "cell_type": "markdown",
   "metadata": {},
   "source": [
    "In the Netflix Taylor Swift documentary *Miss Americana*, she mentions how female artists have to constantly reinvent themselves to stay relevant in their fields. Upon further reflection, I realized how my favorite female artists on the radio have changed their sounds from album to album. While some of this \"reinvention\" lies in their clothing and public personas, I wondered if this change truly existed in their music and lyrics. I want to look into the most \"popular\" songs and artists in the past few decades and see whether or not this inequality exists; if female artists who have stuck around evolved from album to album, if male artists experience the same type of evolution, and if there is any correlation with the music made by artists who faded out of the top 100."
   ]
  },
  {
   "cell_type": "markdown",
   "metadata": {},
   "source": [
    "## Data selected for analysis"
   ]
  },
  {
   "cell_type": "markdown",
   "metadata": {},
   "source": [
    "I plan to do some EDA on a few different datasets to see if there is anything worth exploring here.\n",
    "\n",
    "I found data with Billboard top 100 songs from 1950-2015 [here](https://github.com/kevinschaich/billboard). The data contains all the top 100 songs in those years, the artists, the song's position on the charts, lyrics, genre tags, sentiment, Flesch–Kincaid grade level of lyrics, Flesch reading ease score, Gunning-Fog readability index, Number of words not on the Dale–Chall \"easy\" word list, Number of syllables in lyrics, Number of words in lyrics, Number of lines in lyrics, Number of duplicate (repetitive) lines in lyrics. It appears to be part of an open source project someone did and has an MIT license. This dataset contains the artists and lyrics for all the songs in the Billboard top 100 over several years so it would allow me to analyze the content of the lyrics and the artists associated with those songs.\n",
    "\n",
    "Another dataset I found [here](https://data.world/kcmillersean/billboard-hot-100-1958-2017) contains Billboard hot 100 single from 8/2/1958-12/28/2019. The data has Billboard Chart URL, WeekID, song name, performer name, SongID - concatenation of song & performer, current week on chart, instance, previous week position, peak Position, and weeks on Chart. It also includes another data file that contains Spotify audio features of the songs which would allow me to analyze how the underlying music has changed. This dataset is available for public use."
   ]
  },
  {
   "cell_type": "markdown",
   "metadata": {},
   "source": [
    "## Unknowns and dependencies"
   ]
  },
  {
   "cell_type": "markdown",
   "metadata": {},
   "source": [
    "If preliminary EDA doesn't yield me promising results, I will switch topics. However, this will most likely be done early enough for me to complete this project in time."
   ]
  },
  {
   "cell_type": "code",
   "execution_count": null,
   "metadata": {},
   "outputs": [],
   "source": []
  }
 ],
 "metadata": {
  "kernelspec": {
   "display_name": "Python 3",
   "language": "python",
   "name": "python3"
  },
  "language_info": {
   "codemirror_mode": {
    "name": "ipython",
    "version": 3
   },
   "file_extension": ".py",
   "mimetype": "text/x-python",
   "name": "python",
   "nbconvert_exporter": "python",
   "pygments_lexer": "ipython3",
   "version": "3.7.4"
  }
 },
 "nbformat": 4,
 "nbformat_minor": 4
}
